{
 "cells": [
  {
   "cell_type": "code",
   "execution_count": 1,
   "metadata": {},
   "outputs": [],
   "source": [
    "#Author\n",
    "__author__ = \"Michael Tin\"\n",
    "__email__ = \"michael.tslin@gmail.com\""
   ]
  },
  {
   "cell_type": "code",
   "execution_count": 1,
   "metadata": {},
   "outputs": [],
   "source": [
    "#importing libraries\n",
    "import pandas as pd\n",
    "import numpy as np\n",
    "import matplotlib.pyplot as plt\n",
    "import seaborn as sns\n",
    "from sklearn.ensemble import RandomForestRegressor, GradientBoostingRegressor\n",
    "from sklearn.model_selection import cross_val_score\n",
    "from sklearn.utils import shuffle\n",
    "from sklearn.metrics import mean_squared_error\n",
    "from sklearn.linear_model import LinearRegression\n",
    "from sklearn.linear_model import Ridge\n",
    "from sklearn.preprocessing import LabelEncoder\n",
    "from sklearn.pipeline import make_pipeline\n",
    "from sklearn.preprocessing import MinMaxScaler"
   ]
  },
  {
   "cell_type": "code",
   "execution_count": 277,
   "metadata": {},
   "outputs": [],
   "source": [
    "#functions\n",
    "def load_file(file):\n",
    "    '''loads .csv file to pandas dataframe'''\n",
    "    return pd.read_csv(file)\n",
    "\n",
    "#merging two dataframes by joining on common key      \n",
    "def merge_data(df1, df2, key=None, left_index=False, right_index=False):\n",
    "    '''perform inner join to return only records that are present in both dataframes'''\n",
    "    return pd.merge(left=df1, right=df2, how='inner', on=key, left_index=left_index, right_index=right_index)\n",
    "\n",
    "#checking for duplicates\n",
    "def check_duplicates(df):\n",
    "    '''returns the duplicates from the dataframe'''\n",
    "    return df[df.duplicated()]\n",
    "\n",
    "def Normalize_df(df,num_list=None):\n",
    "    '''normalizes numerical features with minmax scaling and combines results with categorical features\n",
    "    cat_list and num_list must be predefined'''\n",
    "    num_df = df[num_list]\n",
    "    num_df = MinMaxScaler().fit_transform(num_df)\n",
    "    df[num_list] = num_df\n",
    "    return df\n",
    "\n",
    "def one_hot_encode_feature_df(df, cat_list=None, num_list=None):\n",
    "    '''performs one-hot encoding on all categorical variables and combines result with continous variables\n",
    "    cat_list and num_list to be created first'''\n",
    "    cat_df = pd.get_dummies(df[cat_list],dtype=int)\n",
    "    num_df = df[num_list].apply(pd.to_numeric)\n",
    "    return pd.concat([cat_df, num_df], axis=1)#,ignore_index=False)\n",
    "\n",
    "def label_encode_feature_df(df,cat_list=None,num_list=None):\n",
    "    '''performs label encoding on all categorical variables and combines results with the continous variables\n",
    "    cat_list and num_list to be created first'''\n",
    "    cat_df = df[cat_list]\n",
    "    for col in cat_df:\n",
    "        cat_df[col] =  LabelEncoder().fit_transform(cat_df[col])\n",
    "    num_df = df[num_list].apply(pd.to_numeric)\n",
    "    return pd.concat([cat_df,num_df],axis=1)\n",
    "\n",
    "\n",
    "def train_model(model, feature_df, target_df, num_procs, eval_metric, cv_std):\n",
    "    '''Trains model with on Mean Squared Error scoring'''\n",
    "    cv_results = cross_val_score(model, feature_df, target_df, cv=folds, n_jobs=num_procs, scoring=scoring)\n",
    "    eval_metric[model] = -1.0*np.mean(cv_results)\n",
    "    cv_std[model] = np.std(cv_results)\n",
    "\n",
    "def print_summary(model, mean_mse, cv_std):\n",
    "    print('\\nModel:\\n', model)\n",
    "    print('Average MSE:\\n', eval_metric[model])\n",
    "    print('Standard deviation during CV:\\n', cv_std[model])\n",
    "\n",
    "    "
   ]
  },
  {
   "cell_type": "code",
   "execution_count": 11,
   "metadata": {},
   "outputs": [],
   "source": [
    "#Loading data\n",
    "df_train = load_file('data/train_features.csv')\n",
    "df_salaries = load_file('data/train_salaries.csv')\n",
    "df_test = load_file('data/test_features.csv')\n",
    "\n",
    "#define variables\n",
    "cat_list = ['companyId', 'jobType', 'degree', 'major', 'industry']\n",
    "num_list = ['yearsExperience', 'milesFromMetropolis']\n",
    "target_col = 'salary'\n",
    "\n",
    "#consolidating training dataset\n",
    "df_train_raw = merge_data(df_train, df_salaries, key='jobId', left_index=False, right_index=False)\n",
    "\n",
    "#removing duplicates - drop 'jobId first' as we have done in EDA\n",
    "df_train_raw =df_train_raw.drop(columns=['jobId'])\n",
    "duplic = check_duplicates(df_train_raw)\n",
    "df_train_raw.drop(duplic.index, inplace=True)\n",
    "\n",
    "#removing outliers\n",
    "df_train_raw = df_train_raw[df_train_raw.salary > 8.5]\n",
    "\n",
    "#shuffle dataframe and reset index to improve cross-validation accuracy\n",
    "df_train_raw = shuffle(df_train_raw).reset_index()"
   ]
  },
  {
   "cell_type": "code",
   "execution_count": null,
   "metadata": {},
   "outputs": [],
   "source": [
    "#Normalising numerical variables on training and test datasets with MinMax scaler\n",
    "df_train_raw = Normalize_df(df_train_raw,num_list=num_list)\n",
    "df_test = Normalize_df(df_test,num_list=num_list)"
   ]
  },
  {
   "cell_type": "code",
   "execution_count": 200,
   "metadata": {},
   "outputs": [
    {
     "data": {
      "text/html": [
       "<div>\n",
       "<style scoped>\n",
       "    .dataframe tbody tr th:only-of-type {\n",
       "        vertical-align: middle;\n",
       "    }\n",
       "\n",
       "    .dataframe tbody tr th {\n",
       "        vertical-align: top;\n",
       "    }\n",
       "\n",
       "    .dataframe thead th {\n",
       "        text-align: right;\n",
       "    }\n",
       "</style>\n",
       "<table border=\"1\" class=\"dataframe\">\n",
       "  <thead>\n",
       "    <tr style=\"text-align: right;\">\n",
       "      <th></th>\n",
       "      <th>index</th>\n",
       "      <th>companyId</th>\n",
       "      <th>jobType</th>\n",
       "      <th>degree</th>\n",
       "      <th>major</th>\n",
       "      <th>industry</th>\n",
       "      <th>yearsExperience</th>\n",
       "      <th>milesFromMetropolis</th>\n",
       "      <th>salary</th>\n",
       "    </tr>\n",
       "  </thead>\n",
       "  <tbody>\n",
       "    <tr>\n",
       "      <th>0</th>\n",
       "      <td>885667</td>\n",
       "      <td>COMP48</td>\n",
       "      <td>MANAGER</td>\n",
       "      <td>NONE</td>\n",
       "      <td>NONE</td>\n",
       "      <td>SERVICE</td>\n",
       "      <td>0.833333</td>\n",
       "      <td>0.616162</td>\n",
       "      <td>120</td>\n",
       "    </tr>\n",
       "    <tr>\n",
       "      <th>1</th>\n",
       "      <td>23398</td>\n",
       "      <td>COMP61</td>\n",
       "      <td>VICE_PRESIDENT</td>\n",
       "      <td>NONE</td>\n",
       "      <td>NONE</td>\n",
       "      <td>AUTO</td>\n",
       "      <td>0.500000</td>\n",
       "      <td>0.878788</td>\n",
       "      <td>86</td>\n",
       "    </tr>\n",
       "    <tr>\n",
       "      <th>2</th>\n",
       "      <td>644381</td>\n",
       "      <td>COMP31</td>\n",
       "      <td>CEO</td>\n",
       "      <td>DOCTORAL</td>\n",
       "      <td>ENGINEERING</td>\n",
       "      <td>FINANCE</td>\n",
       "      <td>0.958333</td>\n",
       "      <td>0.484848</td>\n",
       "      <td>234</td>\n",
       "    </tr>\n",
       "    <tr>\n",
       "      <th>3</th>\n",
       "      <td>436364</td>\n",
       "      <td>COMP59</td>\n",
       "      <td>MANAGER</td>\n",
       "      <td>DOCTORAL</td>\n",
       "      <td>COMPSCI</td>\n",
       "      <td>AUTO</td>\n",
       "      <td>0.125000</td>\n",
       "      <td>0.787879</td>\n",
       "      <td>102</td>\n",
       "    </tr>\n",
       "    <tr>\n",
       "      <th>4</th>\n",
       "      <td>341273</td>\n",
       "      <td>COMP43</td>\n",
       "      <td>VICE_PRESIDENT</td>\n",
       "      <td>MASTERS</td>\n",
       "      <td>BUSINESS</td>\n",
       "      <td>OIL</td>\n",
       "      <td>0.375000</td>\n",
       "      <td>0.707071</td>\n",
       "      <td>150</td>\n",
       "    </tr>\n",
       "  </tbody>\n",
       "</table>\n",
       "</div>"
      ],
      "text/plain": [
       "    index companyId         jobType    degree        major industry  \\\n",
       "0  885667    COMP48         MANAGER      NONE         NONE  SERVICE   \n",
       "1   23398    COMP61  VICE_PRESIDENT      NONE         NONE     AUTO   \n",
       "2  644381    COMP31             CEO  DOCTORAL  ENGINEERING  FINANCE   \n",
       "3  436364    COMP59         MANAGER  DOCTORAL      COMPSCI     AUTO   \n",
       "4  341273    COMP43  VICE_PRESIDENT   MASTERS     BUSINESS      OIL   \n",
       "\n",
       "   yearsExperience  milesFromMetropolis  salary  \n",
       "0         0.833333             0.616162     120  \n",
       "1         0.500000             0.878788      86  \n",
       "2         0.958333             0.484848     234  \n",
       "3         0.125000             0.787879     102  \n",
       "4         0.375000             0.707071     150  "
      ]
     },
     "execution_count": 200,
     "metadata": {},
     "output_type": "execute_result"
    }
   ],
   "source": [
    "df_train_raw.head()"
   ]
  },
  {
   "cell_type": "code",
   "execution_count": 194,
   "metadata": {},
   "outputs": [
    {
     "data": {
      "text/html": [
       "<div>\n",
       "<style scoped>\n",
       "    .dataframe tbody tr th:only-of-type {\n",
       "        vertical-align: middle;\n",
       "    }\n",
       "\n",
       "    .dataframe tbody tr th {\n",
       "        vertical-align: top;\n",
       "    }\n",
       "\n",
       "    .dataframe thead th {\n",
       "        text-align: right;\n",
       "    }\n",
       "</style>\n",
       "<table border=\"1\" class=\"dataframe\">\n",
       "  <thead>\n",
       "    <tr style=\"text-align: right;\">\n",
       "      <th></th>\n",
       "      <th>jobId</th>\n",
       "      <th>companyId</th>\n",
       "      <th>jobType</th>\n",
       "      <th>degree</th>\n",
       "      <th>major</th>\n",
       "      <th>industry</th>\n",
       "      <th>yearsExperience</th>\n",
       "      <th>milesFromMetropolis</th>\n",
       "    </tr>\n",
       "  </thead>\n",
       "  <tbody>\n",
       "    <tr>\n",
       "      <th>0</th>\n",
       "      <td>JOB1362685407687</td>\n",
       "      <td>COMP33</td>\n",
       "      <td>MANAGER</td>\n",
       "      <td>HIGH_SCHOOL</td>\n",
       "      <td>NONE</td>\n",
       "      <td>HEALTH</td>\n",
       "      <td>0.916667</td>\n",
       "      <td>0.737374</td>\n",
       "    </tr>\n",
       "    <tr>\n",
       "      <th>1</th>\n",
       "      <td>JOB1362685407688</td>\n",
       "      <td>COMP13</td>\n",
       "      <td>JUNIOR</td>\n",
       "      <td>NONE</td>\n",
       "      <td>NONE</td>\n",
       "      <td>AUTO</td>\n",
       "      <td>0.833333</td>\n",
       "      <td>0.474747</td>\n",
       "    </tr>\n",
       "    <tr>\n",
       "      <th>2</th>\n",
       "      <td>JOB1362685407689</td>\n",
       "      <td>COMP10</td>\n",
       "      <td>CTO</td>\n",
       "      <td>MASTERS</td>\n",
       "      <td>BIOLOGY</td>\n",
       "      <td>HEALTH</td>\n",
       "      <td>0.708333</td>\n",
       "      <td>0.090909</td>\n",
       "    </tr>\n",
       "    <tr>\n",
       "      <th>3</th>\n",
       "      <td>JOB1362685407690</td>\n",
       "      <td>COMP21</td>\n",
       "      <td>MANAGER</td>\n",
       "      <td>HIGH_SCHOOL</td>\n",
       "      <td>NONE</td>\n",
       "      <td>OIL</td>\n",
       "      <td>0.583333</td>\n",
       "      <td>0.969697</td>\n",
       "    </tr>\n",
       "    <tr>\n",
       "      <th>4</th>\n",
       "      <td>JOB1362685407691</td>\n",
       "      <td>COMP36</td>\n",
       "      <td>JUNIOR</td>\n",
       "      <td>DOCTORAL</td>\n",
       "      <td>BIOLOGY</td>\n",
       "      <td>OIL</td>\n",
       "      <td>0.416667</td>\n",
       "      <td>0.444444</td>\n",
       "    </tr>\n",
       "  </tbody>\n",
       "</table>\n",
       "</div>"
      ],
      "text/plain": [
       "              jobId companyId  jobType       degree    major industry  \\\n",
       "0  JOB1362685407687    COMP33  MANAGER  HIGH_SCHOOL     NONE   HEALTH   \n",
       "1  JOB1362685407688    COMP13   JUNIOR         NONE     NONE     AUTO   \n",
       "2  JOB1362685407689    COMP10      CTO      MASTERS  BIOLOGY   HEALTH   \n",
       "3  JOB1362685407690    COMP21  MANAGER  HIGH_SCHOOL     NONE      OIL   \n",
       "4  JOB1362685407691    COMP36   JUNIOR     DOCTORAL  BIOLOGY      OIL   \n",
       "\n",
       "   yearsExperience  milesFromMetropolis  \n",
       "0         0.916667             0.737374  \n",
       "1         0.833333             0.474747  \n",
       "2         0.708333             0.090909  \n",
       "3         0.583333             0.969697  \n",
       "4         0.416667             0.444444  "
      ]
     },
     "execution_count": 194,
     "metadata": {},
     "output_type": "execute_result"
    }
   ],
   "source": [
    "df_test.head()"
   ]
  },
  {
   "cell_type": "code",
   "execution_count": 289,
   "metadata": {},
   "outputs": [],
   "source": [
    "#encoding categorical variables and get final dfs\n",
    "df_train_final = one_hot_encode_feature_df(df_train_raw,cat_list=cat_list,num_list=num_list)\n",
    "df_test_final = one_hot_encode_feature_df(df_test,cat_list=cat_list,num_list=num_list)"
   ]
  },
  {
   "cell_type": "code",
   "execution_count": 354,
   "metadata": {},
   "outputs": [],
   "source": [
    "#initialize model list and dicts\n",
    "models=[]\n",
    "eval_metric={}\n",
    "cv_std={}\n",
    "folds = 5\n",
    "\n",
    "#define number of processes to run in parallel\n",
    "num_procs = 2\n",
    "\n",
    "#shared model paramaters\n",
    "verbose_lvl = 0"
   ]
  },
  {
   "cell_type": "markdown",
   "metadata": {},
   "source": [
    "## Evaluation of models - 2 linear and 2 non-linear"
   ]
  },
  {
   "cell_type": "code",
   "execution_count": 355,
   "metadata": {},
   "outputs": [
    {
     "name": "stdout",
     "output_type": "stream",
     "text": [
      "Lauch cross validation\n",
      "\n",
      "Model:\n",
      " LinearRegression()\n",
      "Average MSE:\n",
      " 384.49364459199205\n",
      "Standard deviation during CV:\n",
      " 0.7228630062897775\n",
      "\n",
      "Model:\n",
      " Ridge()\n",
      "Average MSE:\n",
      " 384.49067157080196\n",
      "Standard deviation during CV:\n",
      " 0.7226550416849311\n",
      "\n",
      "Model:\n",
      " RandomForestRegressor(max_depth=25, max_features=30, min_samples_split=60,\n",
      "                      n_estimators=150, n_jobs=2)\n",
      "Average MSE:\n",
      " 365.88005164865666\n",
      "Standard deviation during CV:\n",
      " 0.5828137447263873\n",
      "\n",
      "Model:\n",
      " GradientBoostingRegressor(max_depth=7, n_estimators=150, random_state=0)\n",
      "Average MSE:\n",
      " 356.91304717245737\n",
      "Standard deviation during CV:\n",
      " 0.5856301693312654\n"
     ]
    }
   ],
   "source": [
    "#Generate models and print results - hyperparameter tuning done manually for each model\n",
    "\n",
    "lr = LinearRegression()\n",
    "rd = Ridge()\n",
    "rf = RandomForestRegressor(n_estimators=150, n_jobs=num_procs, max_depth=25, min_samples_split=60, \\\n",
    "                           max_features=30, verbose=verbose_lvl)\n",
    "gbm = GradientBoostingRegressor(n_estimators=150, max_depth=7,random_state=0, loss='ls', verbose=verbose_lvl)\n",
    "\n",
    "models.extend([lr,rd,rf,gbm])\n",
    "\n",
    "#cross-validate models using neg-squared-error scoring\n",
    "scoring='neg_mean_squared_error'\n",
    "target_df = df_train_raw[target_col]\n",
    "print(\"Lauch cross validation\")\n",
    "for model in models:\n",
    "    train_model(model,df_train_final,target_df,num_procs,eval_metric,cv_std)\n",
    "    print_summary(model,eval_metric,cv_std)\n"
   ]
  },
  {
   "cell_type": "code",
   "execution_count": 358,
   "metadata": {},
   "outputs": [],
   "source": [
    "#construct dataframe from cross-validation results for plotting\n",
    "\n",
    "eval_compa = pd.DataFrame([eval_metric, cv_std]).T\n",
    "eval_compa.columns = ['mse_mean','mse_std']\n",
    "eval_compa.index = ['Linear Regression','Ridge','Random Forest',\n",
    "                   'Gradient Boosting']\n",
    "eval_compa['Model Type'] = [\"Linear\",\"Linear\",\"Non-Linear\",\"Non-Linear\"]\n",
    "colors = {\"Linear\":\"#273c75\",\"Non-Linear\": \"#44bd32\" }"
   ]
  },
  {
   "cell_type": "code",
   "execution_count": 359,
   "metadata": {},
   "outputs": [
    {
     "data": {
      "image/png": "[encoded data removed]",
      "text/plain": [
       "<Figure size 720x360 with 1 Axes>"
      ]
     },
     "metadata": {
      "needs_background": "light"
     },
     "output_type": "display_data"
    }
   ],
   "source": [
    "#Plot comparison of models\n",
    "from matplotlib.patches import Patch\n",
    "\n",
    "plt.figure(figsize=(10, 5))\n",
    "eval_compa_sorted= eval_compa.sort_values('mse_mean',ascending=True)\n",
    "eval_compa_sorted['mse_mean'].plot(kind = 'barh',\n",
    "                                   color= eval_compa_sorted['Model Type'].replace(colors)).legend(\n",
    "    [\n",
    "        Patch(facecolor=colors['Linear']),\n",
    "        Patch(facecolor=colors['Non-Linear'])\n",
    "    ], [\"Linear\", \"Non-Linear\"])\n",
    "plt.title(\"MSE score comparison\")\n",
    "plt.xlabel(\"MSE scores\")\n",
    "plt.savefig('models_mse_compa.png', bbox_inches = 'tight')\n",
    "plt.show()"
   ]
  },
  {
   "cell_type": "markdown",
   "metadata": {},
   "source": [
    "**Now that the performance of the selected models has been evaluated, the best performing one, in this case the one boasting the lowest MSE, is used to train on the entire training dataset.**"
   ]
  },
  {
   "cell_type": "code",
   "execution_count": 364,
   "metadata": {},
   "outputs": [
    {
     "name": "stdout",
     "output_type": "stream",
     "text": [
      "GradientBoostingRegressor(max_depth=7, n_estimators=150, random_state=0)\n"
     ]
    },
    {
     "data": {
      "text/plain": [
       "GradientBoostingRegressor(max_depth=7, n_estimators=150, random_state=0)"
      ]
     },
     "execution_count": 364,
     "metadata": {},
     "output_type": "execute_result"
    }
   ],
   "source": [
    "#select model with lowest MSE\n",
    "model = min(eval_metric,key=eval_metric.get)\n",
    "print(model)\n",
    "\n",
    "#train model\n",
    "model.fit(df_train_final,target_df)"
   ]
  },
  {
   "cell_type": "code",
   "execution_count": 365,
   "metadata": {},
   "outputs": [],
   "source": [
    "#saving model with pickle\n",
    "from pickle import dump\n",
    "from pickle import load\n",
    "\n",
    "filename = 'finalize_model.sav'\n",
    "dump(model, open(filename, 'wb'))"
   ]
  },
  {
   "cell_type": "code",
   "execution_count": 366,
   "metadata": {},
   "outputs": [],
   "source": [
    "#make predictions on training dataset with model\n",
    "Pred_GBT = model.predict(df_train_final)"
   ]
  },
  {
   "cell_type": "code",
   "execution_count": 371,
   "metadata": {},
   "outputs": [
    {
     "data": {
      "image/png": "[encoded data removed]",
      "text/plain": [
       "<Figure size 432x288 with 1 Axes>"
      ]
     },
     "metadata": {
      "needs_background": "light"
     },
     "output_type": "display_data"
    }
   ],
   "source": [
    "# Gradient Boosting Model evaluation using visualisation on training dataset\n",
    "ax1=sns.kdeplot(df_train_raw['salary'],color='b',label=\"Actuals\")\n",
    "ax1=sns.kdeplot(Pred_GBT,color='r',label=\"Fitted\")\n",
    "plt.legend()\n",
    "plt.title(\"Actual vs Fitted Values Salary Prediction (Gradient Boosting Model)\")\n",
    "plt.xlabel(\"salary\")\n",
    "plt.ylabel(\"density\")\n",
    "plt.savefig('GradientB_Training_ActualsVsFitted.png')\n",
    "plt.show()"
   ]
  },
  {
   "cell_type": "code",
   "execution_count": 373,
   "metadata": {},
   "outputs": [],
   "source": [
    "#store feature importances of Gradient Boosting model\n",
    "if hasattr(model, 'feature_importances_'):\n",
    "    importances = model.feature_importances_\n",
    "else:\n",
    "    #linear models don't have feature_importances_\n",
    "    importances = [0]*len(feature_df.columns)\n",
    "    \n",
    "feature_importances = pd.DataFrame({'feature':df_train_final.columns, 'importance':importances})\n",
    "feature_importances.sort_values(by='importance', ascending=False, inplace=True)\n",
    "#set index to 'feature'\n",
    "feature_importances.set_index('feature', inplace=True, drop=True)\n",
    "feature_importances.to_csv('feature_importances.csv')\n"
   ]
  },
  {
   "cell_type": "code",
   "execution_count": 374,
   "metadata": {},
   "outputs": [
    {
     "data": {
      "image/png": "[encoded data removed]",
      "text/plain": [
       "<Figure size 1440x720 with 1 Axes>"
      ]
     },
     "metadata": {
      "needs_background": "light"
     },
     "output_type": "display_data"
    }
   ],
   "source": [
    "#Bar chart for top 10 feature importances\n",
    "feature_importances[0:10].plot.bar(figsize=(20,10))\n",
    "plt.savefig('feature_importances.png',bbox_inches = 'tight')\n",
    "plt.show()"
   ]
  },
  {
   "cell_type": "code",
   "execution_count": 375,
   "metadata": {},
   "outputs": [
    {
     "data": {
      "text/html": [
       "<div>\n",
       "<style scoped>\n",
       "    .dataframe tbody tr th:only-of-type {\n",
       "        vertical-align: middle;\n",
       "    }\n",
       "\n",
       "    .dataframe tbody tr th {\n",
       "        vertical-align: top;\n",
       "    }\n",
       "\n",
       "    .dataframe thead th {\n",
       "        text-align: right;\n",
       "    }\n",
       "</style>\n",
       "<table border=\"1\" class=\"dataframe\">\n",
       "  <thead>\n",
       "    <tr style=\"text-align: right;\">\n",
       "      <th></th>\n",
       "      <th>importance</th>\n",
       "    </tr>\n",
       "    <tr>\n",
       "      <th>feature</th>\n",
       "      <th></th>\n",
       "    </tr>\n",
       "  </thead>\n",
       "  <tbody>\n",
       "    <tr>\n",
       "      <th>jobType_JANITOR</th>\n",
       "      <td>0.236256</td>\n",
       "    </tr>\n",
       "    <tr>\n",
       "      <th>yearsExperience</th>\n",
       "      <td>0.186919</td>\n",
       "    </tr>\n",
       "    <tr>\n",
       "      <th>milesFromMetropolis</th>\n",
       "      <td>0.129250</td>\n",
       "    </tr>\n",
       "    <tr>\n",
       "      <th>jobType_JUNIOR</th>\n",
       "      <td>0.082558</td>\n",
       "    </tr>\n",
       "    <tr>\n",
       "      <th>major_NONE</th>\n",
       "      <td>0.072944</td>\n",
       "    </tr>\n",
       "    <tr>\n",
       "      <th>jobType_SENIOR</th>\n",
       "      <td>0.049101</td>\n",
       "    </tr>\n",
       "    <tr>\n",
       "      <th>jobType_CEO</th>\n",
       "      <td>0.037033</td>\n",
       "    </tr>\n",
       "    <tr>\n",
       "      <th>industry_EDUCATION</th>\n",
       "      <td>0.030048</td>\n",
       "    </tr>\n",
       "    <tr>\n",
       "      <th>industry_FINANCE</th>\n",
       "      <td>0.026562</td>\n",
       "    </tr>\n",
       "    <tr>\n",
       "      <th>industry_OIL</th>\n",
       "      <td>0.023839</td>\n",
       "    </tr>\n",
       "  </tbody>\n",
       "</table>\n",
       "</div>"
      ],
      "text/plain": [
       "                     importance\n",
       "feature                        \n",
       "jobType_JANITOR        0.236256\n",
       "yearsExperience        0.186919\n",
       "milesFromMetropolis    0.129250\n",
       "jobType_JUNIOR         0.082558\n",
       "major_NONE             0.072944\n",
       "jobType_SENIOR         0.049101\n",
       "jobType_CEO            0.037033\n",
       "industry_EDUCATION     0.030048\n",
       "industry_FINANCE       0.026562\n",
       "industry_OIL           0.023839"
      ]
     },
     "execution_count": 375,
     "metadata": {},
     "output_type": "execute_result"
    }
   ],
   "source": [
    "feature_importances[0:10]"
   ]
  },
  {
   "cell_type": "markdown",
   "metadata": {},
   "source": [
    "## Deployment of model"
   ]
  },
  {
   "cell_type": "code",
   "execution_count": null,
   "metadata": {},
   "outputs": [],
   "source": [
    "#Make predictions on new data i.e the test dataset, and save results\n",
    "predictions = model.predict(df_test_final)\n",
    "np.savetxt('predictions.csv', predictions, delimiter=',')"
   ]
  },
  {
   "cell_type": "code",
   "execution_count": 383,
   "metadata": {},
   "outputs": [
    {
     "data": {
      "text/plain": [
       "0     110.830768\n",
       "1      92.829393\n",
       "2     180.675232\n",
       "3     104.698736\n",
       "4     117.059867\n",
       "5     154.176216\n",
       "6      96.117392\n",
       "7     117.265107\n",
       "8     105.621625\n",
       "9      97.730179\n",
       "10     81.826096\n",
       "11    101.957785\n",
       "12     91.655833\n",
       "13     52.509605\n",
       "14    108.731446\n",
       "15     96.073975\n",
       "16     98.807414\n",
       "17     73.747393\n",
       "18    135.158151\n",
       "19     84.725279\n",
       "dtype: float64"
      ]
     },
     "execution_count": 383,
     "metadata": {},
     "output_type": "execute_result"
    }
   ],
   "source": [
    "#predictions = pd.Series(predictions)\n",
    "predictions.head(20)"
   ]
  },
  {
   "cell_type": "code",
   "execution_count": 386,
   "metadata": {},
   "outputs": [
    {
     "data": {
      "text/plain": [
       "array([110.83076838,  92.82939272, 180.67523189, 104.69873627,\n",
       "       117.05986691, 154.17621582,  96.11739208, 117.26510692,\n",
       "       105.62162462,  97.73017856,  81.82609565, 101.95778467,\n",
       "        91.65583328,  52.50960453, 108.73144595,  96.07397489,\n",
       "        98.80741378,  73.74739309, 135.15815099,  84.72527941])"
      ]
     },
     "execution_count": 386,
     "metadata": {},
     "output_type": "execute_result"
    }
   ],
   "source": [
    "#predictions made from loaded model, saved initially with Pickle\n",
    "loaded_model = load(open(filename, 'rb'))\n",
    "result = loaded_model.predict(df_test_final)\n",
    "result[:20]"
   ]
  },
  {
   "cell_type": "code",
   "execution_count": null,
   "metadata": {},
   "outputs": [],
   "source": []
  }
 ],
 "metadata": {
  "kernelspec": {
   "display_name": "Python 3",
   "language": "python",
   "name": "python3"
  },
  "language_info": {
   "codemirror_mode": {
    "name": "ipython",
    "version": 3
   },
   "file_extension": ".py",
   "mimetype": "text/x-python",
   "name": "python",
   "nbconvert_exporter": "python",
   "pygments_lexer": "ipython3",
   "version": "3.8.3"
  }
 },
 "nbformat": 4,
 "nbformat_minor": 4
}
